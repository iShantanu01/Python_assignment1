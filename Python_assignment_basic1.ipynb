{
  "nbformat": 4,
  "nbformat_minor": 0,
  "metadata": {
    "colab": {
      "provenance": []
    },
    "kernelspec": {
      "name": "python3",
      "display_name": "Python 3"
    },
    "language_info": {
      "name": "python"
    }
  },
  "cells": [
    {
      "cell_type": "markdown",
      "source": [
        "1.Explain the key features of python that makes it a proper choice for programming?\n",
        "\n",
        "Ans- Features:-\n",
        "     1. most uses in data industry.\n",
        "     2. ease of learning ,very easy to learn\n",
        "     3.wide range of application-\n",
        "       -backend,frontend web development\n",
        "       -making data pipeline\n",
        "       -connect to database\n",
        "       -web scrapping\n",
        "       -automation\n",
        "       -machine learning,NLP,LLM\n",
        "       -data visualization\n",
        "       -data engineering\n",
        "       -image processing\n",
        "       -vast numbers of libraries for diffent domain  \n",
        "      these features makes the pyhton ,the proper choice for programming.\n"
      ],
      "metadata": {
        "id": "SxRvAAHM9Se9"
      }
    },
    {
      "cell_type": "code",
      "execution_count": null,
      "metadata": {
        "id": "00mQT1QO9D3N"
      },
      "outputs": [],
      "source": []
    },
    {
      "cell_type": "markdown",
      "source": [
        "2. Describe the role of predefined keywords in python and provide examples how they are used in a program?"
      ],
      "metadata": {
        "id": "gGCOxKmU9Qoi"
      }
    },
    {
      "cell_type": "code",
      "source": [
        "# here is the keywords in python\n",
        "help('keywords')\n",
        "\n",
        "#Example-1(if,True,False,else,elif)\n",
        "assignment_marks=True\n",
        "attempt=False\n",
        "if assignment_marks:\n",
        "   if attempt:\n",
        "    print('pass')\n",
        "   else:\n",
        "    print(\"got the pass marks but attempt is expired\")\n",
        "elif attempt:\n",
        "  print('you fail to get the pass marks do it again you have attempts left ')\n",
        "else:\n",
        "  print('you are totally fail')\n",
        "\n",
        "\n",
        "# Example-2(for, in )\n",
        "for i in range(10):\n",
        "  print(\"*\",end=\" \")\n",
        "\n"
      ],
      "metadata": {
        "colab": {
          "base_uri": "https://localhost:8080/"
        },
        "id": "5yrwu28c-Sra",
        "outputId": "43a278d7-accb-4abb-9699-f2f57afc02e5"
      },
      "execution_count": null,
      "outputs": [
        {
          "output_type": "stream",
          "name": "stdout",
          "text": [
            "\n",
            "Here is a list of the Python keywords.  Enter any keyword to get more help.\n",
            "\n",
            "False               class               from                or\n",
            "None                continue            global              pass\n",
            "True                def                 if                  raise\n",
            "and                 del                 import              return\n",
            "as                  elif                in                  try\n",
            "assert              else                is                  while\n",
            "async               except              lambda              with\n",
            "await               finally             nonlocal            yield\n",
            "break               for                 not                 \n",
            "\n",
            "got the pass marks but attempt is expired\n",
            "* * * * * * * * * * "
          ]
        }
      ]
    },
    {
      "cell_type": "markdown",
      "source": [
        "3. Compare and contrast mutable and immutable objects in pyhton with example."
      ],
      "metadata": {
        "id": "AD0YiK2H-URS"
      }
    },
    {
      "cell_type": "code",
      "source": [
        "list=[1,3,7,9,'rupak','manish']\n",
        "tuple=(1,2,7,9,'rupak','manish')\n",
        "\n",
        "list[-2]='pratick'  # this is mutable\n",
        "list\n",
        "\n",
        "# tuple[-2]='pratick'   # 'tuple' object does not support item assignment\n",
        "# tuple\n"
      ],
      "metadata": {
        "colab": {
          "base_uri": "https://localhost:8080/"
        },
        "id": "5KCcLJ_h-VV4",
        "outputId": "7bfac6c4-b4c0-4695-8e07-987030dd3de8"
      },
      "execution_count": null,
      "outputs": [
        {
          "output_type": "execute_result",
          "data": {
            "text/plain": [
              "[1, 3, 7, 9, 'pratick', 'manish']"
            ]
          },
          "metadata": {},
          "execution_count": 4
        }
      ]
    },
    {
      "cell_type": "code",
      "source": [
        "s=\"India will win the world_cup in 2024\"\n",
        "print(s.replace(\"India\",\"Australia\"))  # copy\n",
        "s                                      # original\n",
        "\n",
        "# contrast:-\n",
        "# so in mutable data structure when we want to change the element of it , it just directly\n",
        "#  change the element in the memory location is was stored before.\n",
        "\n",
        "# in case of immutable data structure when we want to manipulate it ,\n",
        "# it will first create a new memory location then manipulate thereafter.\n",
        "# So  when we call the original data structure it will remain same.\n",
        "\n",
        "# Compare:-\n",
        "# in both case data manipulation happens but one in the original data structure(mutable),\n",
        "# in another one(immutable) it happens in a new memory location (copy)."
      ],
      "metadata": {
        "colab": {
          "base_uri": "https://localhost:8080/",
          "height": 52
        },
        "id": "IdYFmohhPMwB",
        "outputId": "1fa08482-405a-4b5c-8091-f175be115110"
      },
      "execution_count": null,
      "outputs": [
        {
          "output_type": "stream",
          "name": "stdout",
          "text": [
            "Australia will win the world_cup in 2024\n"
          ]
        },
        {
          "output_type": "execute_result",
          "data": {
            "text/plain": [
              "'India will win the world_cup in 2024'"
            ],
            "application/vnd.google.colaboratory.intrinsic+json": {
              "type": "string"
            }
          },
          "metadata": {},
          "execution_count": 5
        }
      ]
    },
    {
      "cell_type": "markdown",
      "source": [
        "4. Discuss the different operators in python and provide example how they are used?\n",
        "\n",
        "Ans-  Operators:-\n",
        "       1.Arithmatic operator  [+ , - , * , / , % , ** ]\n",
        "       2. Comparsion operator [ == , != , > , < , >= , <= ]\n",
        "       3. Logical operator [ AND , OR , NOT ]\n",
        "       4. Bitwise operator [ & , | , - , ^ , << , >> ]\n",
        "       5. Assignment opearator [ = , += , -= , *= , /= ]\n",
        "       6. Membership operator [ in , not in]\n",
        "       7. identity operator [ is , is not]\n",
        "\n",
        "       \n"
      ],
      "metadata": {
        "id": "tMVtAe_C-WKF"
      }
    },
    {
      "cell_type": "code",
      "source": [
        "# arithmatic operator\n",
        "a=10\n",
        "b=2\n",
        "print(f\"the {b} to the power of {a} is {a**b}\")\n",
        "print(f\"{b} * {a} is {a*b}\")\n",
        "print(f\"{b} * {a} is {a/b}\")\n",
        "\n",
        "# comparision operator:\n",
        "temperature=29\n",
        "\n",
        "if temperature >=49:\n",
        "  print('extreme hot condition')\n",
        "elif temperature >= 35 and temperature<=45:\n",
        "  print('very hot')\n",
        "elif temperature >= 28 and temperature<=35:\n",
        "  print('hot weather')\n",
        "else:\n",
        "  print('comfortable weather')\n",
        "\n",
        "\n",
        "# logical operator:\n",
        "\n",
        "print(True and True)\n",
        "print(True and False)\n",
        "print(True or False)\n",
        "print(True or True)\n",
        "print(False or False)\n",
        "print(not False)\n",
        "\n",
        "\n",
        "# Assignment opeartor\n",
        "a= 1                    # = assignment operator\n",
        "while a<= 10:\n",
        "  print(a)\n",
        "  a+=1                  # += assignment operator\n",
        "\n",
        "\n",
        "# membership operator:\n",
        "for i in range(5):\n",
        "   print(i)\n",
        "\n",
        "'d' not in \"delhi\"\n",
        "\n",
        "# identity operator:\n",
        "'delhi' is 'delhi'\n",
        "\n",
        "\n",
        "\n",
        "\n",
        "\n"
      ],
      "metadata": {
        "colab": {
          "base_uri": "https://localhost:8080/"
        },
        "id": "YrCbYtzp-Wk2",
        "outputId": "f8d60461-7e67-457a-875a-5c937c572887"
      },
      "execution_count": null,
      "outputs": [
        {
          "output_type": "stream",
          "name": "stdout",
          "text": [
            "the 2 to the power of 10 is 100\n",
            "2 * 10 is 20\n",
            "2 * 10 is 5.0\n",
            "hot weather\n",
            "True\n",
            "False\n",
            "True\n",
            "True\n",
            "False\n",
            "True\n",
            "1\n",
            "2\n",
            "3\n",
            "4\n",
            "5\n",
            "6\n",
            "7\n",
            "8\n",
            "9\n",
            "10\n",
            "0\n",
            "1\n",
            "2\n",
            "3\n",
            "4\n"
          ]
        },
        {
          "output_type": "stream",
          "name": "stderr",
          "text": [
            "<>:45: SyntaxWarning: \"is\" with a literal. Did you mean \"==\"?\n",
            "<>:45: SyntaxWarning: \"is\" with a literal. Did you mean \"==\"?\n",
            "<ipython-input-6-756fcf3ed976>:45: SyntaxWarning: \"is\" with a literal. Did you mean \"==\"?\n",
            "  'delhi' is 'delhi'\n"
          ]
        },
        {
          "output_type": "execute_result",
          "data": {
            "text/plain": [
              "True"
            ]
          },
          "metadata": {},
          "execution_count": 6
        }
      ]
    },
    {
      "cell_type": "markdown",
      "source": [
        "5.Explain the concept of type casting in python with example."
      ],
      "metadata": {
        "id": "bx9TI10t-W5S"
      }
    },
    {
      "cell_type": "code",
      "source": [
        "# type casting is a process to convert one data type to another\n",
        "# but alaways not all conversion is possible like- string to integer\n",
        "\n",
        "# example-\n",
        "a= 2024\n",
        "\n",
        "print('a is an integer')\n",
        "print(type(a))\n",
        "print('now convert it into string')\n",
        "b=str(a)\n",
        "print(f\"this is actually string={b}\")\n",
        "print(type(b))\n",
        "\n",
        "print('second type')\n",
        "\n",
        "a= '2024'\n",
        "print(f\"in this case {a} is a string\")\n",
        "print(type(a))\n",
        "print('now convert it into an integer')\n",
        "c=int(a)\n",
        "print(type(c))\n",
        "\n",
        "# a = \"Shantanu\"\n",
        "# d=int(a)            # this conversion is not possible\n",
        "# print(type(d))\n",
        "\n",
        "# there are some more type casting functions like-float(),list(),set(),dict()"
      ],
      "metadata": {
        "colab": {
          "base_uri": "https://localhost:8080/"
        },
        "id": "8MLob3vO-XQK",
        "outputId": "b61cc06e-5a06-437a-ae64-e189d22ccc65"
      },
      "execution_count": null,
      "outputs": [
        {
          "output_type": "stream",
          "name": "stdout",
          "text": [
            "a is an integer\n",
            "<class 'int'>\n",
            "now convert it into string\n",
            "this is actually string=2024\n",
            "<class 'str'>\n",
            "second type\n",
            "in this case 2024 is a string\n",
            "<class 'str'>\n",
            "now convert it into an integer\n",
            "<class 'int'>\n"
          ]
        }
      ]
    },
    {
      "cell_type": "markdown",
      "source": [
        "6. How do conditional statement work in pyhton?illustrate with example"
      ],
      "metadata": {
        "id": "K5qUzsv9-Xp7"
      }
    },
    {
      "cell_type": "code",
      "source": [
        "# mainly 3 type of conditional are there\n",
        "\n",
        "# example-1  (if-else)\n",
        "schooltime=9.45\n",
        "if schooltime>10.00:\n",
        "   print(\"school gate is closed for the day\")\n",
        "else:\n",
        "  print(\"you can go to the class\")\n",
        "\n",
        "# Example-2  (if-elif-else)\n",
        "time=1.00\n",
        "if 4.30 < time <= 6.00:\n",
        "        print(f'{time}: dawn')\n",
        "elif 6.00 < time <= 12.00:\n",
        "        print(f'{time}: morning')\n",
        "elif 12.00 < time <= 13.00:\n",
        "        print(f'{time}: noon')\n",
        "elif 13.00 < time <= 16.00:\n",
        "        print(f'{time}: afternoon')\n",
        "elif 16.00 < time <= 19.00:\n",
        "        print(f'{time}: evening')\n",
        "elif 19.00 < time <= 23.00:\n",
        "        print(f'{time}: night')\n",
        "else:\n",
        "    print(f'{time}: late night')\n",
        "\n",
        "# example-3 [nested if-else ](if there is a weekend and if weather is sunny then go for picnic ,\n",
        "#            if weather is not sunny then stay at home ,\n",
        "#            otheriwse go to work)\n",
        "is_weekend=True\n",
        "is_sunny=False\n",
        "\n",
        "if is_weekend:\n",
        "    if is_sunny:\n",
        "      print(\"wow it is weekend and it is sunny you can go to picnic\")\n",
        "    else:\n",
        "      print('it is weekned but unfortunately weather is bad so stay at home')\n",
        "elif is_sunny:\n",
        "  print(\"weeknd is over ,weather is good so go to work\")\n",
        "else:\n",
        "   print(\"this is not weeknend but due to bad weather you don't have to go for work\")\n",
        "\n",
        "\n",
        "# example-4(student and teacher)[nested if-else]\n",
        "is_student=False\n",
        "is_teacher=False\n",
        "\n",
        "if is_student:\n",
        "   if is_teacher:\n",
        "      print('student and teacher both')\n",
        "   else:\n",
        "      print('student only')\n",
        "else:\n",
        " if is_teacher:\n",
        "   print('only a teacher')\n",
        " else:\n",
        "   print('neither a teacher nor a student')\n",
        "\n",
        "\n",
        "\n",
        "\n",
        "\n",
        "\n"
      ],
      "metadata": {
        "colab": {
          "base_uri": "https://localhost:8080/"
        },
        "id": "qfx52E22-X96",
        "outputId": "4cfc2b03-e310-4aee-9339-5cef517b83bb"
      },
      "execution_count": null,
      "outputs": [
        {
          "output_type": "stream",
          "name": "stdout",
          "text": [
            "you can go to the class\n",
            "1.0: late night\n",
            "it is weekned but unfortunately weather is bad so stay at home\n",
            "neither a teacher nor a student\n"
          ]
        }
      ]
    },
    {
      "cell_type": "markdown",
      "source": [
        "7. describe the different types of loops in python and their use cases with examples?"
      ],
      "metadata": {
        "id": "5t2AV0mNc7OX"
      }
    },
    {
      "cell_type": "code",
      "source": [
        "# for loops-(product table form 1 to 5)\n",
        "for i in range(1,6):\n",
        "    for j in range(1,11):\n",
        "      product=i*j\n",
        "      print(f\"{i}*{j}={product}\")\n",
        "    print()"
      ],
      "metadata": {
        "colab": {
          "base_uri": "https://localhost:8080/"
        },
        "id": "eB5sUgTldtIH",
        "outputId": "6747e0c9-7a6f-4b17-94c1-0f0a9d4a6b81"
      },
      "execution_count": null,
      "outputs": [
        {
          "output_type": "stream",
          "name": "stdout",
          "text": [
            "1*1=1\n",
            "1*2=2\n",
            "1*3=3\n",
            "1*4=4\n",
            "1*5=5\n",
            "1*6=6\n",
            "1*7=7\n",
            "1*8=8\n",
            "1*9=9\n",
            "1*10=10\n",
            "\n",
            "2*1=2\n",
            "2*2=4\n",
            "2*3=6\n",
            "2*4=8\n",
            "2*5=10\n",
            "2*6=12\n",
            "2*7=14\n",
            "2*8=16\n",
            "2*9=18\n",
            "2*10=20\n",
            "\n",
            "3*1=3\n",
            "3*2=6\n",
            "3*3=9\n",
            "3*4=12\n",
            "3*5=15\n",
            "3*6=18\n",
            "3*7=21\n",
            "3*8=24\n",
            "3*9=27\n",
            "3*10=30\n",
            "\n",
            "4*1=4\n",
            "4*2=8\n",
            "4*3=12\n",
            "4*4=16\n",
            "4*5=20\n",
            "4*6=24\n",
            "4*7=28\n",
            "4*8=32\n",
            "4*9=36\n",
            "4*10=40\n",
            "\n",
            "5*1=5\n",
            "5*2=10\n",
            "5*3=15\n",
            "5*4=20\n",
            "5*5=25\n",
            "5*6=30\n",
            "5*7=35\n",
            "5*8=40\n",
            "5*9=45\n",
            "5*10=50\n",
            "\n"
          ]
        }
      ]
    },
    {
      "cell_type": "code",
      "source": [
        "# while loops-(reverse list operation)\n",
        "l=['delhi','mumbai','kolkata','banana',2,1]\n",
        "i=len(l)-1\n",
        "while 0<i<len(l):\n",
        "   print(l[i])\n",
        "   i-=1"
      ],
      "metadata": {
        "colab": {
          "base_uri": "https://localhost:8080/"
        },
        "id": "A9I8EI45dBc-",
        "outputId": "83860544-71ab-4ec3-cee9-7ef9e19ad389"
      },
      "execution_count": null,
      "outputs": [
        {
          "output_type": "stream",
          "name": "stdout",
          "text": [
            "1\n",
            "2\n",
            "banana\n",
            "kolkata\n",
            "mumbai\n"
          ]
        }
      ]
    },
    {
      "cell_type": "code",
      "source": [
        "# while loops-(string operation)\n",
        "s='Shantanu'\n",
        "i=0\n",
        "while i<len(s):\n",
        "  print(s[i])\n",
        "  i+=1\n",
        "\n",
        "\n"
      ],
      "metadata": {
        "colab": {
          "base_uri": "https://localhost:8080/"
        },
        "id": "Q9P_I8_8dPpM",
        "outputId": "d67768fa-6255-4f94-baae-be81c4352324"
      },
      "execution_count": null,
      "outputs": [
        {
          "output_type": "stream",
          "name": "stdout",
          "text": [
            "S\n",
            "h\n",
            "a\n",
            "n\n",
            "t\n",
            "a\n",
            "n\n",
            "u\n"
          ]
        }
      ]
    }
  ]
}